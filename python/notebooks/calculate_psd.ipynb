{
 "cells": [
  {
   "cell_type": "code",
   "execution_count": null,
   "metadata": {
    "collapsed": false
   },
   "outputs": [],
   "source": [
    "import numpy as np\n",
    "import scipy as sp\n",
    "import scipy.signal\n",
    "import os \n",
    "import matplotlib.pyplot as plt\n",
    "from scipy import fft, arange\n",
    "%matplotlib inline\n",
    "import sys\n",
    "sys.path.append('../../')\n",
    "import python.utils as ut\n",
    "from definitions import DATA_PATH"
   ]
  },
  {
   "cell_type": "code",
   "execution_count": null,
   "metadata": {
    "collapsed": false
   },
   "outputs": [],
   "source": [
    "d = ut.load_data_spm('spmeeg_1.mat')\n",
    "lfp = d['data'][5,]\n",
    "fs = d['fsample'][0][0]"
   ]
  },
  {
   "cell_type": "code",
   "execution_count": null,
   "metadata": {
    "collapsed": false
   },
   "outputs": [],
   "source": [
    "band = [48, 52]\n",
    "order = 2\n",
    "Wn = band / fs * 2\n",
    "b, a = scipy.signal.butter(order, Wn, btype='bandstop')\n",
    "lfp_flt = sp.signal.lfilter(b, a, lfp)"
   ]
  },
  {
   "cell_type": "code",
   "execution_count": null,
   "metadata": {
    "collapsed": false
   },
   "outputs": [],
   "source": [
    "# calculate normally \n",
    "f, psd = sp.signal.welch(lfp, fs=fs, window='hamming', nperseg=1024)\n",
    "mask = ut.get_array_mask(f > 2, f < 45)"
   ]
  },
  {
   "cell_type": "code",
   "execution_count": null,
   "metadata": {
    "collapsed": false
   },
   "outputs": [],
   "source": [
    "# calculate with epoching \n",
    "# get largest multiple of 1024\n",
    "epoch_length = 1024\n",
    "multiple = int(np.floor(lfp.shape[0] / epoch_length))\n",
    "idx = epoch_length * multiple\n",
    "lfp_r = lfp[:idx]\n",
    "\n",
    "lfp_r = np.reshape(lfp_r, (multiple, epoch_length))\n",
    "fr, psdr = sp.signal.welch(lfp_r, fs=fs, window='hamming', nperseg=1024)\n",
    "mask = ut.get_array_mask(f > 2, f < 45)"
   ]
  },
  {
   "cell_type": "code",
   "execution_count": null,
   "metadata": {
    "collapsed": false
   },
   "outputs": [],
   "source": [
    "# compare in plot\n",
    "plt.plot(f[mask], psdr.mean(axis=0)[mask], label='epoching')\n",
    "plt.plot(f[mask], psd[mask], label='normal')\n",
    "plt.legend();"
   ]
  },
  {
   "cell_type": "markdown",
   "metadata": {},
   "source": [
    "## Calculate time frequency decomposition "
   ]
  },
  {
   "cell_type": "code",
   "execution_count": null,
   "metadata": {
    "collapsed": false
   },
   "outputs": [],
   "source": [
    "f, t, sxx = scipy.signal.spectrogram(lfp, fs=fs, nperseg=1024)\n",
    "sxx = np.log(sxx)\n",
    "sxx.shape"
   ]
  },
  {
   "cell_type": "code",
   "execution_count": null,
   "metadata": {
    "collapsed": false
   },
   "outputs": [],
   "source": [
    "np.max(t)"
   ]
  },
  {
   "cell_type": "code",
   "execution_count": null,
   "metadata": {
    "collapsed": false
   },
   "outputs": [],
   "source": [
    "mask = ut.get_array_mask(f > 4, f < 21)\n",
    "plt.plot(f[mask], sxx.mean(axis=1)[mask])"
   ]
  },
  {
   "cell_type": "code",
   "execution_count": null,
   "metadata": {
    "collapsed": false
   },
   "outputs": [],
   "source": [
    "plt.pcolormesh(t, f[mask], sxx[mask, :])\n",
    "plt.ylabel('Frequency [Hz]')\n",
    "plt.xlabel('Time [sec]')\n",
    "plt.colorbar();"
   ]
  },
  {
   "cell_type": "code",
   "execution_count": null,
   "metadata": {
    "collapsed": true
   },
   "outputs": [],
   "source": [
    "from mpl_toolkits.mplot3d import Axes3D\n",
    "from matplotlib import cm"
   ]
  },
  {
   "cell_type": "code",
   "execution_count": null,
   "metadata": {
    "collapsed": true
   },
   "outputs": [],
   "source": [
    "xgrid, ygrid = np.meshgrid(f[mask], t)"
   ]
  },
  {
   "cell_type": "code",
   "execution_count": null,
   "metadata": {
    "collapsed": false
   },
   "outputs": [],
   "source": [
    "sxx[mask, :].shape"
   ]
  },
  {
   "cell_type": "code",
   "execution_count": null,
   "metadata": {
    "collapsed": false
   },
   "outputs": [],
   "source": [
    "fig = plt.figure(figsize=(20, 10))\n",
    "ax = fig.gca(projection='3d')\n",
    "\n",
    "surf = ax.plot_surface(X=xgrid, Y=ygrid, Z=sxx[mask, :].T, cmap=cm.viridis)\n",
    "ax.set_xlabel('Frequency [Hz]')\n",
    "ax.set_ylabel('Time [s]')\n",
    "ax.set_zlabel('log power ')\n",
    "fig.colorbar(surf, shrink=0.5, aspect=5);"
   ]
  },
  {
   "cell_type": "code",
   "execution_count": null,
   "metadata": {
    "collapsed": false
   },
   "outputs": [],
   "source": [
    "plt.plot(f[mask], np.exp(sxx[mask, ]).mean(axis=1))"
   ]
  },
  {
   "cell_type": "code",
   "execution_count": null,
   "metadata": {
    "collapsed": false
   },
   "outputs": [],
   "source": [
    "fig = plt.figure(figsize=plt.figaspect(2.))\n",
    "\n",
    "ax = fig.add_subplot(2, 1, 1, projection='3d')\n",
    "X = np.arange(-5, 5, 0.25)\n",
    "xlen = len(X)\n",
    "Y = np.arange(-5, 5, 0.25)\n",
    "ylen = len(Y)\n",
    "X, Y = np.meshgrid(X, Y)\n",
    "R = np.sqrt(X**2 + Y**2)\n",
    "Z = np.sin(R)\n",
    "\n",
    "surf = ax.plot_surface(X, Y, Z, rstride=1, cstride=1,\n",
    "                       linewidth=0, antialiased=False)"
   ]
  },
  {
   "cell_type": "code",
   "execution_count": null,
   "metadata": {
    "collapsed": true
   },
   "outputs": [],
   "source": []
  },
  {
   "cell_type": "code",
   "execution_count": null,
   "metadata": {
    "collapsed": true
   },
   "outputs": [],
   "source": []
  }
 ],
 "metadata": {
  "anaconda-cloud": {},
  "kernelspec": {
   "display_name": "Python [default]",
   "language": "python",
   "name": "python3"
  },
  "language_info": {
   "codemirror_mode": {
    "name": "ipython",
    "version": 3
   },
   "file_extension": ".py",
   "mimetype": "text/x-python",
   "name": "python",
   "nbconvert_exporter": "python",
   "pygments_lexer": "ipython3",
   "version": "3.5.2"
  }
 },
 "nbformat": 4,
 "nbformat_minor": 2
}
