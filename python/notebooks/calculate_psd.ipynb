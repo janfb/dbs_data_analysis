{
 "cells": [
  {
   "cell_type": "code",
   "execution_count": null,
   "metadata": {
    "collapsed": true
   },
   "outputs": [],
   "source": [
    "import numpy as np\n",
    "import scipy as sp\n",
    "import scipy.signal\n",
    "import os \n",
    "import matplotlib.pyplot as plt\n",
    "from scipy import fft, arange\n",
    "%matplotlib inline\n",
    "import sys\n",
    "sys.path.append('../../')\n",
    "from python.read_data import load_data\n",
    "from definitions import DATA_PATH"
   ]
  },
  {
   "cell_type": "code",
   "execution_count": null,
   "metadata": {
    "collapsed": false
   },
   "outputs": [],
   "source": [
    "d = load_data()\n",
    "lfp = d['data'][0,]\n",
    "fs = d['fsample'][0][0]"
   ]
  },
  {
   "cell_type": "code",
   "execution_count": null,
   "metadata": {
    "collapsed": false
   },
   "outputs": [],
   "source": [
    "band = [48, 52]\n",
    "order = 2\n",
    "Wn = band / fs * 2\n",
    "b, a = scipy.signal.butter(order, Wn, btype='bandstop')\n",
    "lfp_flt = sp.signal.lfilter(b, a, lfp)"
   ]
  },
  {
   "cell_type": "code",
   "execution_count": null,
   "metadata": {
    "collapsed": false
   },
   "outputs": [],
   "source": [
    "f1, X1psd = sp.signal.welch(lfp, fs=fs, window='hamming', nperseg=1024, noverlap=0, detrend='linear')"
   ]
  },
  {
   "cell_type": "code",
   "execution_count": null,
   "metadata": {
    "collapsed": false
   },
   "outputs": [],
   "source": [
    "plt.semilogy(f1, X1psd)"
   ]
  },
  {
   "cell_type": "code",
   "execution_count": null,
   "metadata": {
    "collapsed": false
   },
   "outputs": [],
   "source": [
    "f1, X1psd = sp.signal.welch(lfp_flt, fs=fs, window='hamming', nperseg=1024, noverlap=0, detrend='constant')\n",
    "mask = np.logical_and(f1 < 45, f1 > 4)\n",
    "plt.plot(f1[mask], X1psd[mask]);"
   ]
  },
  {
   "cell_type": "code",
   "execution_count": null,
   "metadata": {
    "collapsed": true
   },
   "outputs": [],
   "source": []
  }
 ],
 "metadata": {
  "anaconda-cloud": {},
  "kernelspec": {
   "display_name": "Python [conda env:bccn_programming]",
   "language": "python",
   "name": "conda-env-bccn_programming-py"
  },
  "language_info": {
   "codemirror_mode": {
    "name": "ipython",
    "version": 3
   },
   "file_extension": ".py",
   "mimetype": "text/x-python",
   "name": "python",
   "nbconvert_exporter": "python",
   "pygments_lexer": "ipython3",
   "version": "3.5.2"
  }
 },
 "nbformat": 4,
 "nbformat_minor": 2
}
