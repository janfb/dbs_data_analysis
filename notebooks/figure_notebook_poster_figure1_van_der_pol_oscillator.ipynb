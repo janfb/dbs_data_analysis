{
 "cells": [
  {
   "cell_type": "code",
   "execution_count": null,
   "metadata": {
    "collapsed": true
   },
   "outputs": [],
   "source": [
    "import numpy as np \n",
    "import matplotlib.pyplot as plt \n",
    "%matplotlib inline\n",
    "from scipy.integrate import odeint\n",
    "import scipy.signal\n",
    "import scipy.interpolate"
   ]
  },
  {
   "cell_type": "code",
   "execution_count": null,
   "metadata": {
    "collapsed": true
   },
   "outputs": [],
   "source": [
    "import sys\n",
    "sys.path.append('../')\n",
    "import utils as ut\n",
    "import os\n",
    "import analysis_stn_data.plotting_functions as plotter\n",
    "from definitions import DATA_PATH, SAVE_PATH_DATA, SAVE_PATH_FIGURES\n",
    "import scipy"
   ]
  },
  {
   "cell_type": "markdown",
   "metadata": {},
   "source": [
    "### Van der Pol oscillator\n",
    "\n",
    "Is defined as\n",
    "$$ \n",
    "\\frac{d^2 x}{dt^2} - \\mu (1 - x^2) \\frac{dx}{dt} + x = 0\n",
    "$$\n",
    "\n",
    "Can be rewritten by defining $y=\\dot x$ as: \n",
    "\n",
    "\\begin{align}\n",
    "\\dot x &= y \\\\\n",
    "\\dot y &= \\mu (1 - x^2)y + x \n",
    "\\end{align}\n",
    "\n",
    "The period of the relaxation oscillation is approx by $T = \\mu (3 - ln 2)$"
   ]
  },
  {
   "cell_type": "code",
   "execution_count": null,
   "metadata": {
    "collapsed": true
   },
   "outputs": [],
   "source": [
    "def get_period(mu): \n",
    "    return mu * (3 - np.log(2))"
   ]
  },
  {
   "cell_type": "code",
   "execution_count": null,
   "metadata": {
    "collapsed": true
   },
   "outputs": [],
   "source": [
    "mu = 3.\n",
    "\n",
    "def van_der_pol_oscillator_deriv(x, t):\n",
    "    x1 = x[1]\n",
    "    x2 = mu * (1.0 - x[0] ** 2.0) * x[1] - x[0]\n",
    "    return np.array([x1, x2])"
   ]
  },
  {
   "cell_type": "code",
   "execution_count": null,
   "metadata": {
    "collapsed": true
   },
   "outputs": [],
   "source": [
    "dt = 0.001\n",
    "fs = 1/dt\n",
    "t_end = 400\n",
    "t = np.arange(0, t_end, dt)\n",
    "x = odeint(van_der_pol_oscillator_deriv, [0.1, .5], t)\n",
    "x1 = x[:, 0]\n",
    "x2 = x[:, 1]"
   ]
  },
  {
   "cell_type": "code",
   "execution_count": null,
   "metadata": {
    "collapsed": false
   },
   "outputs": [],
   "source": [
    "plt.figure(figsize=(15, 5))\n",
    "start_idx = 5000\n",
    "plt.plot(t[start_idx:], x1[start_idx:], label='x')\n",
    "#plt.plot(t[start_idx:], x2[start_idx:], label='y')\n",
    "plt.legend();"
   ]
  },
  {
   "cell_type": "code",
   "execution_count": null,
   "metadata": {
    "collapsed": false
   },
   "outputs": [],
   "source": [
    "T = get_period(mu)\n",
    "print('frequency is f={}'.format(1/T))"
   ]
  },
  {
   "cell_type": "markdown",
   "metadata": {},
   "source": [
    "### plot the phase distribution"
   ]
  },
  {
   "cell_type": "code",
   "execution_count": null,
   "metadata": {
    "collapsed": false
   },
   "outputs": [],
   "source": [
    "analytic_signal = scipy.signal.hilbert(x1)\n",
    "\n",
    "# get the instantaneous phase over time\n",
    "phase = np.angle(analytic_signal)\n",
    "\n",
    "# sum up and average the phase vectors on the unit circle\n",
    "vectors = np.exp(1j * phase)\n",
    "circular_mean_vector = np.mean(vectors)"
   ]
  },
  {
   "cell_type": "code",
   "execution_count": null,
   "metadata": {
    "collapsed": false
   },
   "outputs": [],
   "source": [
    "plt.hist(phase, bins='auto');"
   ]
  },
  {
   "cell_type": "markdown",
   "metadata": {},
   "source": [
    "### Calculate HFO amplitude to show its connection to the phase"
   ]
  },
  {
   "cell_type": "code",
   "execution_count": null,
   "metadata": {
    "collapsed": false
   },
   "outputs": [],
   "source": [
    "f, psd = scipy.signal.welch(x1, fs=fs, nperseg=1000)"
   ]
  },
  {
   "cell_type": "code",
   "execution_count": null,
   "metadata": {
    "collapsed": false
   },
   "outputs": [],
   "source": [
    "plt.plot(f[:50], psd[:50], 'o-')\n",
    "plt.grid('on')"
   ]
  },
  {
   "cell_type": "code",
   "execution_count": null,
   "metadata": {
    "collapsed": true
   },
   "outputs": [],
   "source": [
    "f, tx, sxx = scipy.signal.spectrogram(x1, fs=fs, nperseg=1000)"
   ]
  },
  {
   "cell_type": "code",
   "execution_count": null,
   "metadata": {
    "collapsed": false
   },
   "outputs": [],
   "source": [
    "f[:10]"
   ]
  },
  {
   "cell_type": "code",
   "execution_count": null,
   "metadata": {
    "collapsed": false
   },
   "outputs": [],
   "source": [
    "a = 15000 \n",
    "o = 40000\n",
    "\n",
    "amp = sxx[2:10, :].sum(axis=0)\n",
    "f = scipy.interpolate.interp1d(tx, amp)\n",
    "amp = f(t[10000:-10000])"
   ]
  },
  {
   "cell_type": "code",
   "execution_count": null,
   "metadata": {
    "collapsed": false
   },
   "outputs": [],
   "source": [
    "amp_mat = np.tile(amp[a:o], (10, 1))"
   ]
  },
  {
   "cell_type": "code",
   "execution_count": null,
   "metadata": {
    "collapsed": false
   },
   "outputs": [],
   "source": [
    "plt.plot(amp)"
   ]
  },
  {
   "cell_type": "code",
   "execution_count": null,
   "metadata": {
    "collapsed": false
   },
   "outputs": [],
   "source": [
    "import matplotlib\n",
    "fontsize = 20\n",
    "plt.figure(figsize=(15, 7))\n",
    "plt.subplot(211)\n",
    "plt.title('Van der Pol oscillator, $\\mu=3$', fontsize=fontsize)\n",
    "plt.plot(t[a:o], x1[a:o], label='van der Pol oscillation, $\\mu=3$')\n",
    "#plt.xlim([0, t_end])\n",
    "plt.xticks([], [])\n",
    "plt.yticks(np.linspace(-2, 2, 3), np.linspace(-2, 2, 3))\n",
    "\n",
    "plt.subplot(212)\n",
    "plt.title('HFO amplitude phase-locked to the slow oscillation', fontsize=fontsize)\n",
    "plt.imshow(amp_mat, norm=matplotlib.colors.PowerNorm(1), aspect=200, interpolation='None')\n",
    "plt.xticks([], [])\n",
    "plt.xlabel('time', fontsize=20)\n",
    "#plt.ylabel('HFO power', fontsize=fontsize)\n",
    "plt.yticks([], [])\n",
    "\n",
    "\n",
    "#plt.xticks(np.linspace(0, amp_mat.shape[1]-1, 11), np.linspace(0, 40, 10, dtype=int))\n",
    "plt.tight_layout();"
   ]
  },
  {
   "cell_type": "code",
   "execution_count": null,
   "metadata": {
    "collapsed": false
   },
   "outputs": [],
   "source": [
    "fig = plt.figure(figsize=(15, 3))\n",
    "plt.plot(t[a:o], x1[a:o], label='van der Pol oscillation, $\\mu=3$')\n",
    "plt.xlabel('time ', fontsize=fontsize)\n",
    "plt.xticks([], [])\n",
    "# Make the y-axis label, ticks and tick labels match the line color.\n",
    "plt.ylabel('slow oscillation', color='C0', fontsize=fontsize)\n",
    "plt.tick_params('y', colors='C0')\n",
    "plt.yticks(np.linspace(-2, 2, 3), np.linspace(-2, 2, 3))\n",
    "\n",
    "\n",
    "plt.twinx()\n",
    "plt.plot(t[a:o], amp[a:o], color='C1', label='higher frequencies')\n",
    "plt.ylabel('power', color='C1', fontsize=fontsize)\n",
    "plt.tick_params('y', colors='C1')\n",
    "power_amp = 0.5\n",
    "plt.ylim([0, power_amp])\n",
    "plt.yticks(np.linspace(0, power_amp, 3), np.linspace(0, power_amp, 3))\n",
    "plt.legend(prop={'size': 15})\n",
    "\n",
    "# plot phase markers \n",
    "b = 15.9\n",
    "for idx in range(3): \n",
    "    plt.axvline(x=b, color='C2', alpha=0.2)\n",
    "    plt.axvline(x=b + 4.3, color='C2', alpha=0.2)\n",
    "    b += 8.8\n",
    "\n",
    "plt.title('Van der Pol oscillator with phase-locking in higher frequencies, $\\mu=3$', fontsize=fontsize)\n",
    "fig.tight_layout()\n",
    "figure_path = os.path.join(SAVE_PATH_FIGURES, 'van_der_pol_illustration_poster.pdf')\n",
    "plt.savefig(figure_path)"
   ]
  },
  {
   "cell_type": "code",
   "execution_count": null,
   "metadata": {
    "collapsed": false
   },
   "outputs": [],
   "source": []
  },
  {
   "cell_type": "code",
   "execution_count": null,
   "metadata": {
    "collapsed": true
   },
   "outputs": [],
   "source": []
  }
 ],
 "metadata": {
  "anaconda-cloud": {},
  "kernelspec": {
   "display_name": "Python [default]",
   "language": "python",
   "name": "python3"
  },
  "language_info": {
   "codemirror_mode": {
    "name": "ipython",
    "version": 3
   },
   "file_extension": ".py",
   "mimetype": "text/x-python",
   "name": "python",
   "nbconvert_exporter": "python",
   "pygments_lexer": "ipython3",
   "version": "3.5.2"
  }
 },
 "nbformat": 4,
 "nbformat_minor": 2
}
