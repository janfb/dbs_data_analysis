{
 "cells": [
  {
   "cell_type": "markdown",
   "metadata": {},
   "source": [
    "## How to design a band-pass filter? \n",
    "What is important to know when designing a bandpass filter beyond just using some black box scipy.signal method? \n",
    "\n",
    "impulse response: response of the filter to a short pulse \n",
    "IIR filter: infinite impulse response filter \n",
    "FIR filter: finite impulse response filter, computationally a bit more costly \n",
    "\n",
    "convolution theorem states: the result of a convolution is a weighted combination of the frequency structure of the data and that of the kernel. \n",
    "       —> if the kernel has a certain frequency range that is present and other that are zero, than the zero frequencies will be attenuated \n",
    "\n",
    "* in filter design, frequencies are normally represented as fraction of the Nyquist frequency. \n",
    "* filter order is the length of the filter kernel (-1). It determines the precision of the filter’s frequency response. \n",
    "* lower bound on the order: if I want to resolve a certain frequency in the signal, the length of the filter kernel should be long enough to at least contain one cycle of that frequency. e.g., for 10Hz the filter should at least be 100ms long in terms of samples. \n",
    "* in practice, the filter length should be 2 to 5 times the cycle length of the minimal frequency \n",
    "* in theory the filter order should be an even number \n",
    "\n",
    "The width of the frequency range of the filter, e.g, the plateaux, determines the frequency resolution and the time resolution. The narrower it is, the better the frequency resolution. But a narrow frequency range in the frequency domain requires a wider kernel in the time domain. E. g., a single frequency pulse in the frequency response of the filter would correspond to a perfect sine wave that never dampens. \n",
    "\n",
    "Sharp edges in the frequency response of the filter result in ringing artifacts in the filtered time signal. The transition zones of the bandpass filter should therefore be wide enough to avoid ringing. \n",
    "\n",
    "by applying the filter convolution once forward and once backward in time, one can avoid the phase delay that is introduced by the causal filter \n",
    "\n",
    "The filter can also be designed with the window method. In this case one only specifies the lower and upper bound of the band pass, the filter method automatically chooses 0 transition zones and afterwards smoothes the filter with a certain window function, e.g., the hamming window. \n"
   ]
  },
  {
   "cell_type": "code",
   "execution_count": null,
   "metadata": {
    "collapsed": true
   },
   "outputs": [],
   "source": [
    "import numpy as np\n",
    "import scipy.signal as sp\n",
    "import matplotlib.pyplot as plt\n",
    "%matplotlib inline"
   ]
  },
  {
   "cell_type": "code",
   "execution_count": null,
   "metadata": {
    "collapsed": true
   },
   "outputs": [],
   "source": [
    "import sys\n",
    "sys.path.append('../')\n",
    "import utils as ut"
   ]
  },
  {
   "cell_type": "code",
   "execution_count": null,
   "metadata": {
    "collapsed": true
   },
   "outputs": [],
   "source": [
    "# load some data for testing\n",
    "folder = '/Users/Jan/Dropbox/Master/LR_Kuehn/data/dystonia_rest/for_python/good_theta/'\n",
    "file = 'spmeeg_13.mat'\n",
    "d = ut.load_data_spm(file, folder)"
   ]
  },
  {
   "cell_type": "code",
   "execution_count": null,
   "metadata": {
    "collapsed": true
   },
   "outputs": [],
   "source": [
    "lfp = d['data'][1]\n",
    "fs = d['fsample'][0][0]"
   ]
  },
  {
   "cell_type": "markdown",
   "metadata": {},
   "source": [
    "## Design a filter with firls method, explicitly"
   ]
  },
  {
   "cell_type": "code",
   "execution_count": null,
   "metadata": {
    "collapsed": false
   },
   "outputs": [],
   "source": [
    "# the filter order, should 3x the cycle length of the smallest frequency in the desired band \n",
    "nyq = fs / 2.\n",
    "band = [4., 12.]  # band in Hz\n",
    "# get the number of samples per ms\n",
    "samples_per_ms = fs / 1000.\n",
    "# get the cycle length in samples \n",
    "cycle_length = int(1000 / band[0] * samples_per_ms)\n",
    "numtaps = 3 * cycle_length\n",
    "# make numtaps even \n",
    "if not numtaps % 2: \n",
    "    numtaps += 1"
   ]
  },
  {
   "cell_type": "code",
   "execution_count": null,
   "metadata": {
    "collapsed": false
   },
   "outputs": [],
   "source": [
    "# set the filter parameters\n",
    "transition_start = band[0] - np.floor(0.1 * (band[1] - band[0])) \n",
    "# a hack to avoid negative transition start\n",
    "if transition_start < 1: \n",
    "    transition_start = 1.\n",
    "transition_stop = band[1] + np.ceil(0.1 * (band[1] - band[0]))\n",
    "bands = (0, transition_start, band[0], band[1], transition_stop, nyq)\n",
    "# set the desired filter response \n",
    "desired = (0, 0, 1, 1, 0, 0)\n",
    "# design the filter \n",
    "coefs = sp.firls(numtaps, bands, desired, nyq=nyq)"
   ]
  },
  {
   "cell_type": "markdown",
   "metadata": {},
   "source": [
    "## Design it with the window method "
   ]
  },
  {
   "cell_type": "code",
   "execution_count": null,
   "metadata": {
    "collapsed": true
   },
   "outputs": [],
   "source": [
    "# design the filter \n",
    "coefs_win = sp.firwin(numtaps=numtaps, cutoff=(band[0], band[1]), window='hamming', nyq=nyq, pass_zero=False)\n",
    "# get the frequency response \n",
    "freq_win, response_win = sp.freqz(coefs_win)"
   ]
  },
  {
   "cell_type": "markdown",
   "metadata": {},
   "source": [
    "## Design IIR filter with butter"
   ]
  },
  {
   "cell_type": "code",
   "execution_count": null,
   "metadata": {
    "collapsed": false
   },
   "outputs": [],
   "source": [
    "wn = band / nyq\n",
    "b, a = sp.butter(Wn=wn, N=4, btype='bandpass')\n",
    "freq_butter, response_butter = sp.freqz(b, a)"
   ]
  },
  {
   "cell_type": "code",
   "execution_count": null,
   "metadata": {
    "collapsed": false
   },
   "outputs": [],
   "source": [
    "# get the frequency response \n",
    "freq, response = sp.freqz(coefs)\n",
    "\n",
    "# plot only up to a certain frequency for better visu\n",
    "upto = int(band[1] + 20)\n",
    "\n",
    "# plot \n",
    "plt.figure(figsize=(15, 5)) \n",
    "plt.semilogy((nyq*freq/(np.pi))[:upto], np.abs(response)[:upto], label='firs')\n",
    "plt.semilogy((nyq*freq_win/(np.pi))[:upto], np.abs(response_win)[:upto], label='firwin')\n",
    "plt.semilogy((nyq*freq_butter/(np.pi))[:upto], np.abs(response_butter)[:upto], label='butter')\n",
    "plt.semilogy(bands, desired)\n",
    "plt.xlim([0, upto])\n",
    "plt.title('Frequency response')\n",
    "plt.xlabel('Frequency (Hz)')\n",
    "plt.ylabel('Gain')\n",
    "plt.grid(True)\n",
    "plt.legend();"
   ]
  },
  {
   "cell_type": "markdown",
   "metadata": {},
   "source": [
    "## Check goodness of filters \n",
    "One can check the goodness of the filter by comparing it to the ideal filter. the ideal filter is just the connection of the filter parameters stated above with straight lines. A measure of comparison is the sum of squares between them. One certainly has to interpolate for the ideal filter to compare to the filter coefficients of the actual filter. \n",
    "\n",
    "The SS should close to zero. Larger than 1. is bad. "
   ]
  },
  {
   "cell_type": "code",
   "execution_count": null,
   "metadata": {
    "collapsed": true
   },
   "outputs": [],
   "source": [
    "# construct the ideal filter response, i.e., a vector that has 1s in the bandpass and 0s everywhere else\n",
    "desired = np.zeros_like(response)\n",
    "# get the frequencies in Hz \n",
    "f = nyq*freq/(np.pi)\n",
    "# construct a mask of the band\n",
    "mask = ut.get_array_mask(f >= band[0], f <= band[1])\n",
    "# set values in mask to 1\n",
    "desired[mask] = 1 "
   ]
  },
  {
   "cell_type": "code",
   "execution_count": null,
   "metadata": {
    "collapsed": false
   },
   "outputs": [],
   "source": [
    "# calculate sum of squares\n",
    "ss = np.sum((desired - abs(response))**2)\n",
    "ss_win = np.sum((desired - abs(response_win))**2)\n",
    "ss_butter = np.sum((desired - abs(response_butter))**2)\n",
    "print('firls:', abs(ss))\n",
    "print('firwin: ', abs(ss_win))\n",
    "print('butter: ', abs(ss_butter))"
   ]
  },
  {
   "cell_type": "markdown",
   "metadata": {},
   "source": [
    "## Apply the filters and compare results"
   ]
  },
  {
   "cell_type": "code",
   "execution_count": null,
   "metadata": {
    "collapsed": false
   },
   "outputs": [],
   "source": [
    "# use forward backward filtering the avoid phase delay\n",
    "y = sp.filtfilt(coefs, 1, lfp)\n",
    "y_win = sp.filtfilt(coefs_win, 1, lfp)\n",
    "y_butter = sp.filtfilt(b, a, lfp)"
   ]
  },
  {
   "cell_type": "code",
   "execution_count": null,
   "metadata": {
    "collapsed": false
   },
   "outputs": [],
   "source": [
    "# plot the filtered signal and the original \n",
    "plt.figure(figsize=(15, 5))\n",
    "# only a certain range for better visu\n",
    "start = 1000\n",
    "stop = start + 1000\n",
    "\n",
    "plt.plot(y[start:stop], label='firs')\n",
    "plt.plot(y_win[start:stop], label='firwin')\n",
    "plt.plot(y_butter[start:stop], label='butter')\n",
    "plt.plot(lfp[start:stop], label='raw', alpha=.4)\n",
    "plt.legend();"
   ]
  },
  {
   "cell_type": "markdown",
   "metadata": {},
   "source": [
    "## Conclusion\n",
    "Looking at the value of the SS between the desired and the actual response it seems that the firwin method is the best choice because it automatically chooses the transition zones. \n",
    "\n",
    "The choice of the transition zones becomes more difficult if the lower bandpass is small and the range is large, etc. \n",
    "\n",
    "The butter IIR filter has a bad frequency resolution, e.g., see the green curve in the response plot and the large value in the sum of squares. But this may be due to the fact that it has an infinite impulse response? "
   ]
  },
  {
   "cell_type": "code",
   "execution_count": null,
   "metadata": {
    "collapsed": true
   },
   "outputs": [],
   "source": []
  }
 ],
 "metadata": {
  "anaconda-cloud": {},
  "kernelspec": {
   "display_name": "Python [conda env:bccn_programming]",
   "language": "python",
   "name": "conda-env-bccn_programming-py"
  },
  "language_info": {
   "codemirror_mode": {
    "name": "ipython",
    "version": 3
   },
   "file_extension": ".py",
   "mimetype": "text/x-python",
   "name": "python",
   "nbconvert_exporter": "python",
   "pygments_lexer": "ipython3",
   "version": "3.5.2"
  }
 },
 "nbformat": 4,
 "nbformat_minor": 2
}
