{
 "cells": [
  {
   "cell_type": "code",
   "execution_count": null,
   "metadata": {
    "collapsed": true
   },
   "outputs": [],
   "source": [
    "import numpy as np\n",
    "import scipy.signal as sp\n",
    "import matplotlib.pyplot as plt\n",
    "%matplotlib inline"
   ]
  },
  {
   "cell_type": "code",
   "execution_count": null,
   "metadata": {
    "collapsed": true
   },
   "outputs": [],
   "source": [
    "import sys\n",
    "sys.path.append('../')\n",
    "import utils as ut"
   ]
  },
  {
   "cell_type": "code",
   "execution_count": null,
   "metadata": {
    "collapsed": true
   },
   "outputs": [],
   "source": [
    "folder = '/Users/Jan/Dropbox/Master/LR_Kuehn/data/dystonia_rest/for_python/good_theta/'\n",
    "file = 'spmeeg_13.mat'\n",
    "d = ut.load_data_spm(file, folder)"
   ]
  },
  {
   "cell_type": "code",
   "execution_count": null,
   "metadata": {
    "collapsed": true
   },
   "outputs": [],
   "source": [
    "lfp = d['data'][1]\n",
    "fs = d['fsample'][0][0]"
   ]
  },
  {
   "cell_type": "markdown",
   "metadata": {},
   "source": [
    "## Design a filter with firls method, explicitly"
   ]
  },
  {
   "cell_type": "code",
   "execution_count": null,
   "metadata": {
    "collapsed": false
   },
   "outputs": [],
   "source": [
    "# the filter order, should 3x the cycle length of the smallest frequency in the desired band \n",
    "nyq = fs / 2.\n",
    "band = [4., 70.]\n",
    "# get the number of samples per ms\n",
    "samples_per_ms = fs / 1000.\n",
    "# get the cycle length in samples \n",
    "cycle_length = int(1000 / band[0] * samples_per_ms)\n",
    "numtaps = 3 * cycle_length\n",
    "# make numtaps even \n",
    "if not numtaps % 2: \n",
    "    numtaps += 1"
   ]
  },
  {
   "cell_type": "code",
   "execution_count": null,
   "metadata": {
    "collapsed": false
   },
   "outputs": [],
   "source": [
    "# set the filter parameters\n",
    "start = band[0] - np.floor(0.1 * (band[1] - band[0])) \n",
    "if start < 1: \n",
    "    start = 1.\n",
    "stop = band[1] + np.ceil(0.1 * (band[1] - band[0]))\n",
    "bands = (0, start, band[0], band[1], stop, nyq)\n",
    "# set the desired filter response \n",
    "desired = (0, 0, 1, 1, 0, 0)\n",
    "# design the filter \n",
    "coefs = sp.firls(numtaps, bands, desired, nyq=nyq)"
   ]
  },
  {
   "cell_type": "markdown",
   "metadata": {},
   "source": [
    "## Design it with the window method "
   ]
  },
  {
   "cell_type": "code",
   "execution_count": null,
   "metadata": {
    "collapsed": true
   },
   "outputs": [],
   "source": [
    "# design the filter \n",
    "coefs_win = sp.firwin(numtaps=numtaps, cutoff=(band[0], band[1]), window='hamming', nyq=nyq, pass_zero=False)\n",
    "# get the frequency response \n",
    "freq_win, response_win = sp.freqz(coefs_win)"
   ]
  },
  {
   "cell_type": "markdown",
   "metadata": {},
   "source": [
    "## Design IIR filter with butter"
   ]
  },
  {
   "cell_type": "code",
   "execution_count": null,
   "metadata": {
    "collapsed": false
   },
   "outputs": [],
   "source": [
    "wn = band / nyq\n",
    "b, a = sp.butter(Wn=wn, N=4, btype='bandpass')\n",
    "freq_butter, response_butter = sp.freqz(b, a)"
   ]
  },
  {
   "cell_type": "code",
   "execution_count": null,
   "metadata": {
    "collapsed": false
   },
   "outputs": [],
   "source": [
    "# get the frequency response \n",
    "freq, response = sp.freqz(coefs)\n",
    "# plot \n",
    "plt.figure(figsize=(15, 10))\n",
    "upto = int(band[1] + 20)\n",
    "plt.semilogy((nyq*freq/(np.pi))[:upto], np.abs(response)[:upto], label='firs')\n",
    "plt.semilogy((nyq*freq_win/(np.pi))[:upto], np.abs(response_win)[:upto], label='firwin')\n",
    "plt.semilogy((nyq*freq_butter/(np.pi))[:upto], np.abs(response_butter)[:upto], label='butter')\n",
    "plt.semilogy(bands, desired)\n",
    "plt.xlim([0, upto + 10])\n",
    "plt.legend();"
   ]
  },
  {
   "cell_type": "markdown",
   "metadata": {},
   "source": [
    "## Check goodness of filters "
   ]
  },
  {
   "cell_type": "code",
   "execution_count": null,
   "metadata": {
    "collapsed": true
   },
   "outputs": [],
   "source": [
    "desired = np.zeros_like(response)\n",
    "f = nyq*freq/(np.pi)\n",
    "mask = ut.get_array_mask(f >= band[0], f <= band[1])\n",
    "desired[mask] = 1 "
   ]
  },
  {
   "cell_type": "code",
   "execution_count": null,
   "metadata": {
    "collapsed": false
   },
   "outputs": [],
   "source": [
    "ss = np.sum((desired - abs(response))**2)\n",
    "ss_win = np.sum((desired - abs(response_win))**2)\n",
    "ss_butter = np.sum((desired - abs(response_butter))**2)\n",
    "print(ss)\n",
    "print(ss_win)\n",
    "print(ss_butter)"
   ]
  },
  {
   "cell_type": "markdown",
   "metadata": {},
   "source": [
    "## Apply the filters and compare results"
   ]
  },
  {
   "cell_type": "code",
   "execution_count": null,
   "metadata": {
    "collapsed": false
   },
   "outputs": [],
   "source": [
    "y = sp.filtfilt(coefs, 1, lfp)\n",
    "y_win = sp.filtfilt(coefs_win, 1, lfp)\n",
    "y_butter = sp.filtfilt(b, a, lfp)"
   ]
  },
  {
   "cell_type": "code",
   "execution_count": null,
   "metadata": {
    "collapsed": false
   },
   "outputs": [],
   "source": [
    "plt.figure(figsize=(15, 10))\n",
    "start = 1000\n",
    "stop = start + 100\n",
    "plt.plot(y[start:stop], label='firs')\n",
    "plt.plot(y_win[start:stop], label='firwin')\n",
    "plt.plot(y_butter[start:stop], label='butter')\n",
    "plt.legend()\n",
    "plt.plot(lfp[start:stop])\n",
    "\n"
   ]
  },
  {
   "cell_type": "markdown",
   "metadata": {},
   "source": [
    "## Conclusion\n",
    "Looking at the value of the SS between the desired and the actual response it seems that the firwin method is the best choice because it automatically chooses the transition zones. \n",
    "\n",
    "The choice of the transition zones becomes more difficult if the lower bandpass is small and the range is large, etc. \n",
    "\n",
    "The butter IIR filter has a bad frequency resolution, e.g., see the green curve in the response plot and the large value in the sum of squares. But this may be due to the fact that it has an infinite impulse response? "
   ]
  },
  {
   "cell_type": "code",
   "execution_count": null,
   "metadata": {
    "collapsed": true
   },
   "outputs": [],
   "source": []
  }
 ],
 "metadata": {
  "anaconda-cloud": {},
  "kernelspec": {
   "display_name": "Python [conda env:bccn_programming]",
   "language": "python",
   "name": "conda-env-bccn_programming-py"
  },
  "language_info": {
   "codemirror_mode": {
    "name": "ipython",
    "version": 3
   },
   "file_extension": ".py",
   "mimetype": "text/x-python",
   "name": "python",
   "nbconvert_exporter": "python",
   "pygments_lexer": "ipython3",
   "version": "3.5.2"
  }
 },
 "nbformat": 4,
 "nbformat_minor": 2
}
