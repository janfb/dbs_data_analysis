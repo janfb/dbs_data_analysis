{
 "cells": [
  {
   "cell_type": "code",
   "execution_count": null,
   "metadata": {
    "collapsed": true
   },
   "outputs": [],
   "source": [
    "import numpy as np \n",
    "import matplotlib.pyplot as plt \n",
    "%matplotlib inline \n",
    "import os"
   ]
  },
  {
   "cell_type": "code",
   "execution_count": null,
   "metadata": {
    "collapsed": true
   },
   "outputs": [],
   "source": [
    "import sys\n",
    "sys.path.append('../')\n",
    "import utils as ut\n",
    "from definitions import SAVE_PATH_FIGURES"
   ]
  },
  {
   "cell_type": "code",
   "execution_count": null,
   "metadata": {
    "collapsed": false
   },
   "outputs": [],
   "source": [
    "datafile = 'sig_max_channels_correlation_matrices_n4.p'\n",
    "folder = '/Users/Jan/Dropbox/Master/LR_Kuehn/analysis_data/stn/'\n",
    "data_dict = ut.load_data_analysis(filename=datafile, data_folder=folder)\n",
    "data_dict.keys()"
   ]
  },
  {
   "cell_type": "code",
   "execution_count": null,
   "metadata": {
    "collapsed": false
   },
   "outputs": [],
   "source": [
    "variable_labels = data_dict['variables']\n",
    "corr = data_dict['corr']\n",
    "bias_mat = data_dict['bias_mat']\n",
    "slope_mat = data_dict['slope_mat']\n",
    "p_mat = data_dict['p_mat']\n",
    "print(variable_labels)"
   ]
  },
  {
   "cell_type": "code",
   "execution_count": null,
   "metadata": {
    "collapsed": false
   },
   "outputs": [],
   "source": [
    "# plot correlation matrix \n",
    "vmin = -0.5\n",
    "vmax = 0.5\n",
    "tick_size = 15\n",
    "fontsize = 20\n",
    "n_variables = corr.shape[0]\n",
    "\n",
    "print(corr)\n",
    "# mask the matrix where needed\n",
    "corr[np.tril_indices(n_variables)] = 1\n",
    "corrm = np.ma.masked_equal(corr, 1)\n",
    "\n",
    "plt.imshow(corrm, interpolation=None, origin='upper', cmap='viridis', vmax=vmax, vmin=vmin, alpha=.8)\n",
    "plt.xticks(np.arange(n_variables), variable_labels, fontsize=fontsize)\n",
    "plt.gca().yaxis.tick_right()\n",
    "plt.yticks(np.arange(n_variables), variable_labels, fontsize=fontsize)\n",
    "plt.gca().xaxis.tick_top()\n",
    "\n",
    "cbar = plt.colorbar(ticks=[-vmin, 0, vmax], pad=.15)\n",
    "cbar.ax.tick_params(labelsize=tick_size)\n",
    "\n",
    "plt.tight_layout()"
   ]
  },
  {
   "cell_type": "code",
   "execution_count": null,
   "metadata": {
    "collapsed": false
   },
   "outputs": [],
   "source": [
    "import matplotlib\n",
    "# this is defined in the range 0 1 \n",
    "cmap = matplotlib.cm.get_cmap('viridis')\n",
    "# buld a normalizer \n",
    "norm = matplotlib.colors.Normalize(vmin=-.5, vmax=.5)"
   ]
  },
  {
   "cell_type": "code",
   "execution_count": null,
   "metadata": {
    "collapsed": false
   },
   "outputs": [],
   "source": [
    "print(corr)"
   ]
  },
  {
   "cell_type": "code",
   "execution_count": null,
   "metadata": {
    "collapsed": false
   },
   "outputs": [],
   "source": [
    "from matplotlib import cm\n",
    "# plot all correlation lines in one plot \n",
    "plt.figure(figsize=(15, 5))\n",
    "\n",
    "ymin = 0.005\n",
    "ymax = 0.05\n",
    "fontsize = 20\n",
    "labelsize=15\n",
    "label_steps = 3\n",
    "legend_size = 18\n",
    "\n",
    "labels = ['Extrema sharpness (ESR)', 'Rise-decay steepness (RDSR)', 'Phase vector length (PVL)']\n",
    "\n",
    "corr_list = corr[np.triu_indices(n_variables, 1)]\n",
    "for idx, var in enumerate(labels): \n",
    "    plt.subplot(1, 3, idx + 1)\n",
    "    y = data_dict['data'][idx][1]\n",
    "    x = data_dict['data'][idx][0]\n",
    "    xmin = np.round(np.min(x), 5)\n",
    "    xmax = np.round(np.max(x), 5)\n",
    "    xvals = np.linspace(xmin, xmax, len(x))\n",
    "    \n",
    "    # plot the data \n",
    "    plt.plot(x, y, 'o', alpha=0.5)\n",
    "    \n",
    "    # plot the line\n",
    "    r = corr_list[idx]\n",
    "    p = p_mat[idx]\n",
    "    bias = bias_mat[idx]\n",
    "    slope = slope_mat[idx]\n",
    "\n",
    "    plt.plot(xvals, bias + slope * xvals, color=cmap(norm(r)), linewidth=3, \n",
    "             label='r={}, p={}'.format(round(r, 2), round(p, 3)))\n",
    "    plt.legend(prop={'size': legend_size})\n",
    "    \n",
    "    # design the xticks \n",
    "    plt.xticks(np.linspace(xmin, xmax, label_steps), \n",
    "              np.round(np.linspace(xmin, xmax, label_steps), 2), fontsize=labelsize)\n",
    "    plt.title(var, fontsize=fontsize)\n",
    "    \n",
    "    # design the yticks \n",
    "    plt.ylim([ymin, ymax])\n",
    "    if idx > 0: \n",
    "        plt.yticks([], [])\n",
    "    else: \n",
    "        plt.ylabel('PAC', fontsize=fontsize)  \n",
    "        plt.yticks(np.linspace(ymin, ymax, label_steps), \n",
    "                   np.round(np.linspace(ymin, ymax, label_steps), 2), fontsize=labelsize)\n",
    "\n",
    "plt.tight_layout()\n",
    "\n",
    "figure_path = os.path.join(SAVE_PATH_FIGURES, 'correlations_sigmaxchannel_pac_esr_rdsr_pvl.pdf')\n",
    "#plt.savefig(figure_path)"
   ]
  },
  {
   "cell_type": "code",
   "execution_count": null,
   "metadata": {
    "collapsed": false
   },
   "outputs": [],
   "source": [
    "from matplotlib import cm\n",
    "# plot all correlation lines in one plot \n",
    "fig = plt.figure(figsize=(15, 5))\n",
    "\n",
    "fontsize = 20\n",
    "labelsize=15\n",
    "label_steps = 3\n",
    "legend_size = 18\n",
    "\n",
    "xlabels = ['RDSR', 'PLV', 'PLV']\n",
    "ylabels = ['ESR', 'ESR', 'RDSR']\n",
    "\n",
    "corr_list = corr[np.triu_indices(n_variables, 1)]\n",
    "for idx, var in enumerate(labels): \n",
    "    ax = plt.subplot(1, 3, idx + 1)\n",
    "    y = data_dict['data'][idx+3][1]\n",
    "    x = data_dict['data'][idx+3][0]\n",
    "    xmin = np.round(np.min(x), 4)\n",
    "    xmax = np.round(np.max(x), 4)\n",
    "    ymin = np.round(np.min(y), 4)\n",
    "    ymax = np.round(np.max(y), 4)\n",
    "    xvals = np.linspace(xmin, xmax, len(x))\n",
    "    \n",
    "    # plot the data \n",
    "    plt.plot(x, y, 'o', alpha=0.5)\n",
    "    \n",
    "    # plot the line\n",
    "    r = corr_list[idx+3]\n",
    "    p = p_mat[idx+3]\n",
    "    bias = bias_mat[idx+3]\n",
    "    slope = slope_mat[idx+3]\n",
    "\n",
    "    plt.plot(xvals, bias + slope * xvals, color=cmap(norm(r)), linewidth=3, \n",
    "             label='r={}, p={}'.format(round(r, 2), round(p, 3)))\n",
    "    plt.legend(prop={'size': legend_size})\n",
    "    \n",
    "    # design the xticks \n",
    "    plt.xticks(np.linspace(xmin, xmax, label_steps), \n",
    "              np.round(np.linspace(xmin, xmax, label_steps), 2), fontsize=labelsize)\n",
    "    plt.title(xlabels[idx], fontsize=fontsize)\n",
    "    \n",
    "    # design the yticks \n",
    "    plt.ylim([ymin, ymax])\n",
    "    plt.ylabel(ylabels[idx], fontsize=fontsize)  \n",
    "    plt.yticks(np.linspace(ymin, ymax, label_steps), \n",
    "               np.round(np.linspace(ymin, ymax, label_steps), 2), fontsize=labelsize)\n",
    "\n",
    "plt.tight_layout()\n",
    "\n",
    "figure_path = os.path.join(SAVE_PATH_FIGURES, 'correlations_sigmaxchannel_esr_rdsr_pvl.pdf')\n",
    "plt.savefig(figure_path)"
   ]
  },
  {
   "cell_type": "code",
   "execution_count": null,
   "metadata": {
    "collapsed": true
   },
   "outputs": [],
   "source": []
  }
 ],
 "metadata": {
  "anaconda-cloud": {},
  "kernelspec": {
   "display_name": "Python [conda env:bccn_programming]",
   "language": "python",
   "name": "conda-env-bccn_programming-py"
  },
  "language_info": {
   "codemirror_mode": {
    "name": "ipython",
    "version": 3
   },
   "file_extension": ".py",
   "mimetype": "text/x-python",
   "name": "python",
   "nbconvert_exporter": "python",
   "pygments_lexer": "ipython3",
   "version": "3.5.2"
  }
 },
 "nbformat": 4,
 "nbformat_minor": 2
}
