{
 "cells": [
  {
   "cell_type": "code",
   "execution_count": null,
   "metadata": {
    "collapsed": true
   },
   "outputs": [],
   "source": [
    "import numpy as np \n",
    "import matplotlib.pyplot as plt \n",
    "%matplotlib inline \n",
    "from scipy.ndimage import measurements"
   ]
  },
  {
   "cell_type": "code",
   "execution_count": null,
   "metadata": {
    "collapsed": false
   },
   "outputs": [],
   "source": [
    "import sys\n",
    "sys.path.append('../')\n",
    "import utils as ut\n",
    "import os\n",
    "import analysis_stn_data.plotting_functions as plotter\n",
    "from definitions import DATA_PATH, SAVE_PATH_DATA\n",
    "import scipy"
   ]
  },
  {
   "cell_type": "code",
   "execution_count": null,
   "metadata": {
    "collapsed": false
   },
   "outputs": [],
   "source": [
    "data_folder = os.path.join(DATA_PATH, 'STN_data_PAC', 'collected')\n",
    "file_list = os.listdir(data_folder)\n",
    "save_folder = os.path.join(SAVE_PATH_DATA, 'stn')\n",
    "\n",
    "subject_file_list = [file for file in file_list if file.startswith('subject') and file.endswith('.p')]\n",
    "\n",
    "data_dict = dict()"
   ]
  },
  {
   "cell_type": "markdown",
   "metadata": {},
   "source": [
    "### Use this loop to find a good positive example of significant PAC with nice PSD "
   ]
  },
  {
   "cell_type": "code",
   "execution_count": null,
   "metadata": {
    "collapsed": false
   },
   "outputs": [],
   "source": [
    "max_cluster_list = []\n",
    "cluster_criterion = 250\n",
    "\n",
    "plot_idx = 1\n",
    "plt.figure(figsize=(15, 30))\n",
    "for file_idx, file in enumerate(subject_file_list):\n",
    "\n",
    "    print('Analysing subject file', file)\n",
    "\n",
    "    super_dict = np.load(os.path.join(data_folder, file))\n",
    "    subject_id = super_dict['id']\n",
    "\n",
    "    # collect data\n",
    "    lfp_dict = super_dict['lfp']\n",
    "    fs = super_dict['fs']\n",
    "    pac_dict = super_dict['pac']\n",
    "    pac_matrix = super_dict['pac_matrix']\n",
    "    sig_matrix = super_dict['sig_matrix']\n",
    "    pac_phase = pac_matrix.mean(axis=2)  # average over amplitude frequencies\n",
    "    \n",
    "    f_amp = pac_dict['on']['F_amp'].squeeze()\n",
    "    f_phase = pac_dict['on']['F_phase'].squeeze()\n",
    "    conditions = ['off', 'on']\n",
    "    n_conditions = len(conditions)\n",
    "\n",
    "    # the frequency resolution should be the same for conditions\n",
    "    n_amplitude = pac_dict['on']['F_amp'].size\n",
    "    n_phase = pac_dict['on']['F_phase'].size\n",
    "    \n",
    "    # channel labels will be same within a subject\n",
    "    channel_labels = np.squeeze(lfp_dict['on']['channels'])\n",
    "    channel_labels = [chan[0] for chan in channel_labels]\n",
    "    right_channels = [chan for chan in channel_labels if chan.startswith('STN_R')]\n",
    "    left_channels = [chan for chan in channel_labels if chan.startswith('STN_L')]\n",
    "    left_channel_idx = [channel_labels.index(lc) for lc in left_channels]\n",
    "    right_channel_idx = [channel_labels.index(rc) for rc in right_channels]\n",
    "\n",
    "    # LFP DATA\n",
    "    # over conditions\n",
    "    conditions = ['off', 'on']\n",
    "    n_conditions = len(conditions)\n",
    "    n_channels = len(lfp_dict['on']['channels'])\n",
    "    bands = [[11, 22]]\n",
    "    n_bands = len(bands)\n",
    "    \n",
    "    significant_pac = np.zeros((len(channel_labels), n_conditions))\n",
    "    \n",
    "    for channel_idx, channel_label in enumerate(channel_labels):\n",
    "\n",
    "        # the customized freqeuncy bands are saved per hemisphere, therefore we have to find out the current hemi\n",
    "        current_hemi = 'left' if channel_label in left_channels else 'right'\n",
    "\n",
    "        for condition_idx, condition in enumerate(conditions):\n",
    "\n",
    "            # get current lfp data\n",
    "            current_lfp_epochs = lfp_dict[condition]['data'][channel_idx]\n",
    "\n",
    "            # consider reasonable beta range\n",
    "            mask = ut.get_array_mask(f_phase >= 5, f_phase <= 40).squeeze()\n",
    "            f_mask = f_phase[mask]\n",
    "            data = pac_phase[channel_idx, condition_idx, mask]\n",
    "            # smooth the mean PAC\n",
    "            smoother_pac = ut.smooth_with_mean_window(data, window_size=3)\n",
    "            max_idx = np.argmax(smoother_pac)\n",
    "            # sum logical significance values across the amplitude frequency dimension\n",
    "            # calculate the binary groups in the significance map\n",
    "            lw, num = measurements.label(sig_matrix[channel_idx, condition_idx, : , :])\n",
    "            # calculate the area of the clusters:\n",
    "            # from http://stackoverflow.com/questions/25664682/how-to-find-cluster-sizes-in-2d-numpy-array\n",
    "            area = measurements.sum(sig_matrix[channel_idx, condition_idx,], lw, index=np.arange(lw.max() + 1))\n",
    "            # get the size of the largest group\n",
    "            max_cluster_size = np.max(area)\n",
    "            max_cluster_list.append(max_cluster_size)\n",
    "            \n",
    "            # calculate mean\n",
    "            current_sig_phase = sig_matrix[channel_idx, condition_idx, :, mask].mean(axis=1)  # should be shape (61,)\n",
    "            current_sig_amp = sig_matrix[channel_idx, condition_idx, :, mask].mean(axis=0)  # should be shape (61,)\n",
    "\n",
    "            \n",
    "            if max_cluster_size > cluster_criterion:\n",
    "                significant_pac[channel_idx, condition_idx] = 1\n",
    "                \n",
    "                # plot the pac and the psd \n",
    "                plt.subplot(30, 2, plot_idx)\n",
    "                plt.imshow(pac_matrix[channel_idx, condition_idx].T, interpolation='None')\n",
    "                plt.subplot(30, 2, plot_idx + 1)\n",
    "                \n",
    "                \n",
    "                f_psd, psd = ut.calculate_psd(y=current_lfp_epochs[:, 0], fs=fs, window_length=1024)  # to get the dims\n",
    "                for epoch_idx, lfp_epoch in enumerate(current_lfp_epochs[:, 1:].T):\n",
    "                    f_psd, psd_tmp = ut.calculate_psd(y=lfp_epoch, fs=fs, window_length=1024)\n",
    "                    psd += psd_tmp\n",
    "                # divide by n epochs to average\n",
    "                psd /= current_lfp_epochs.shape[1]\n",
    "                # interpolate the psd to have the same sample point as in the PAC phase dimensions:\n",
    "                psd_inter_f = scipy.interpolate.interp1d(f_psd, psd)\n",
    "                psd = psd_inter_f(f_phase)\n",
    "                plt.plot(f_phase, psd)\n",
    "                plt.title('f{}, ch{}, cond{}'.format(file_idx, channel_idx, condition_idx))\n",
    "                plot_idx += 2"
   ]
  },
  {
   "cell_type": "markdown",
   "metadata": {},
   "source": [
    "### Now choose a good file idx, channel idx condition idx combination"
   ]
  },
  {
   "cell_type": "code",
   "execution_count": null,
   "metadata": {
    "collapsed": false
   },
   "outputs": [],
   "source": [
    "pos_file_idx = 8\n",
    "pos_channel_idx = 5 \n",
    "pos_condition_idx = 0"
   ]
  },
  {
   "cell_type": "markdown",
   "metadata": {
    "collapsed": true
   },
   "source": [
    "### Look for a good negative example"
   ]
  },
  {
   "cell_type": "code",
   "execution_count": null,
   "metadata": {
    "collapsed": false,
    "scrolled": true
   },
   "outputs": [],
   "source": [
    "plot_idx = 1\n",
    "plt.figure(figsize=(15, 10))\n",
    "max_cluster_list = []\n",
    "cluster_criterion = 150\n",
    "for file_idx, file in enumerate(subject_file_list):\n",
    "\n",
    "    print('Analysing subject file', file)\n",
    "\n",
    "    super_dict = np.load(os.path.join(data_folder, file))\n",
    "    subject_id = super_dict['id']\n",
    "\n",
    "    # collect data\n",
    "    lfp_dict = super_dict['lfp']\n",
    "    fs = super_dict['fs']\n",
    "    pac_dict = super_dict['pac']\n",
    "    pac_matrix = super_dict['pac_matrix']\n",
    "    sig_matrix = super_dict['sig_matrix']\n",
    "    pac_phase = pac_matrix.mean(axis=2)  # average over amplitude frequencies\n",
    "    \n",
    "    f_amp = pac_dict['on']['F_amp'].squeeze()\n",
    "    f_phase = pac_dict['on']['F_phase'].squeeze()\n",
    "    conditions = ['off', 'on']\n",
    "    n_conditions = len(conditions)\n",
    "\n",
    "    # the frequency resolution should be the same for conditions\n",
    "    n_amplitude = pac_dict['on']['F_amp'].size\n",
    "    n_phase = pac_dict['on']['F_phase'].size\n",
    "    \n",
    "    # channel labels will be same within a subject\n",
    "    channel_labels = np.squeeze(lfp_dict['on']['channels'])\n",
    "    channel_labels = [chan[0] for chan in channel_labels]\n",
    "    right_channels = [chan for chan in channel_labels if chan.startswith('STN_R')]\n",
    "    left_channels = [chan for chan in channel_labels if chan.startswith('STN_L')]\n",
    "    left_channel_idx = [channel_labels.index(lc) for lc in left_channels]\n",
    "    right_channel_idx = [channel_labels.index(rc) for rc in right_channels]\n",
    "\n",
    "    # LFP DATA\n",
    "    # over conditions\n",
    "    conditions = ['off', 'on']\n",
    "    n_conditions = len(conditions)\n",
    "    n_channels = len(lfp_dict['on']['channels'])\n",
    "    bands = [[11, 22]]\n",
    "    n_bands = len(bands)\n",
    "    \n",
    "    significant_pac = np.zeros((len(channel_labels), n_conditions))\n",
    "    \n",
    "    for channel_idx, channel_label in enumerate(channel_labels):\n",
    "\n",
    "        # the customized freqeuncy bands are saved per hemisphere, therefore we have to find out the current hemi\n",
    "        current_hemi = 'left' if channel_label in left_channels else 'right'\n",
    "\n",
    "        for condition_idx, condition in enumerate(conditions):\n",
    "\n",
    "            # get current lfp data\n",
    "            current_lfp_epochs = lfp_dict[condition]['data'][channel_idx]\n",
    "\n",
    "            # consider reasonable beta range\n",
    "            mask = ut.get_array_mask(f_phase >= 5, f_phase <= 40).squeeze()\n",
    "            f_mask = f_phase[mask]\n",
    "            data = pac_phase[channel_idx, condition_idx, mask]\n",
    "            # smooth the mean PAC\n",
    "            smoother_pac = ut.smooth_with_mean_window(data, window_size=3)\n",
    "            max_idx = np.argmax(smoother_pac)\n",
    "            # sum logical significance values across the amplitude frequency dimension\n",
    "            # calculate the binary groups in the significance map\n",
    "            lw, num = measurements.label(sig_matrix[channel_idx, condition_idx, : , :])\n",
    "            # calculate the area of the clusters:\n",
    "            # from http://stackoverflow.com/questions/25664682/how-to-find-cluster-sizes-in-2d-numpy-array\n",
    "            area = measurements.sum(sig_matrix[channel_idx, condition_idx,], lw, index=np.arange(lw.max() + 1))\n",
    "            # get the size of the largest group\n",
    "            max_cluster_size = np.max(area)\n",
    "            max_cluster_list.append(max_cluster_size)\n",
    "            \n",
    "            # calculate mean\n",
    "            current_sig_phase = sig_matrix[channel_idx, condition_idx, :, mask].mean(axis=1)  # should be shape (61,)\n",
    "            current_sig_amp = sig_matrix[channel_idx, condition_idx, :, mask].mean(axis=0)  # should be shape (61,)\n",
    "\n",
    "            \n",
    "            if max_cluster_size < cluster_criterion and plot_idx < 100:\n",
    "                plt.subplot(10, 10, plot_idx)\n",
    "                plt.imshow(pac_matrix[channel_idx, condition_idx].T, interpolation='None')\n",
    "                plt.xticks([], [])\n",
    "                plt.yticks([], [])\n",
    "                plot_idx += 1\n",
    "                plt.title('f{}, ch{}, cond{}'.format(file_idx, channel_idx, condition_idx))"
   ]
  },
  {
   "cell_type": "code",
   "execution_count": null,
   "metadata": {
    "collapsed": true
   },
   "outputs": [],
   "source": [
    "n_file_idx = 0\n",
    "n_channel_idx = 2\n",
    "n_cond_idx = 1"
   ]
  },
  {
   "cell_type": "markdown",
   "metadata": {},
   "source": [
    "### Load the negative example pac matrix "
   ]
  },
  {
   "cell_type": "code",
   "execution_count": null,
   "metadata": {
    "collapsed": true
   },
   "outputs": [],
   "source": [
    "file = subject_file_list[n_file_idx]\n",
    "super_dict = np.load(os.path.join(data_folder, file))\n",
    "subject_id = super_dict['id']\n",
    "\n",
    "# collect data\n",
    "pac_matrix = super_dict['pac_matrix']\n",
    "sig_matrix = super_dict['sig_matrix']\n",
    "\n",
    "pac_matrix_nonsig = pac_matrix[n_channel_idx, n_cond_idx, :, :]\n",
    "sig_matrix2 = sig_matrix[n_channel_idx, n_cond_idx, :, :]"
   ]
  },
  {
   "cell_type": "code",
   "execution_count": null,
   "metadata": {
    "collapsed": false
   },
   "outputs": [],
   "source": [
    "for file_idx, file in enumerate(subject_file_list):\n",
    "\n",
    "    super_dict = np.load(os.path.join(data_folder, file))\n",
    "    subject_id = super_dict['id']\n",
    "\n",
    "    # collect data\n",
    "    lfp_dict = super_dict['lfp']\n",
    "    fs = super_dict['fs']\n",
    "    pac_dict = super_dict['pac']\n",
    "    pac_matrix = super_dict['pac_matrix']\n",
    "    sig_matrix = super_dict['sig_matrix']\n",
    "    pac_phase = pac_matrix.mean(axis=2)  # average over amplitude frequencies\n",
    "    \n",
    "    f_amp = pac_dict['on']['F_amp'].squeeze()\n",
    "    f_phase = pac_dict['on']['F_phase'].squeeze()\n",
    "    conditions = ['off', 'on']\n",
    "    n_conditions = len(conditions)\n",
    "\n",
    "    # the frequency resolution should be the same for conditions\n",
    "    n_amplitude = pac_dict['on']['F_amp'].size\n",
    "    n_phase = pac_dict['on']['F_phase'].size\n",
    "    \n",
    "    # channel labels will be same within a subject\n",
    "    channel_labels = np.squeeze(lfp_dict['on']['channels'])\n",
    "    channel_labels = [chan[0] for chan in channel_labels]\n",
    "    right_channels = [chan for chan in channel_labels if chan.startswith('STN_R')]\n",
    "    left_channels = [chan for chan in channel_labels if chan.startswith('STN_L')]\n",
    "    left_channel_idx = [channel_labels.index(lc) for lc in left_channels]\n",
    "    right_channel_idx = [channel_labels.index(rc) for rc in right_channels]\n",
    "\n",
    "    # LFP DATA\n",
    "    # over conditions\n",
    "    conditions = ['off', 'on']\n",
    "    n_conditions = len(conditions)\n",
    "    n_channels = len(lfp_dict['on']['channels'])\n",
    "    bands = [[11, 22]]\n",
    "    n_bands = len(bands)\n",
    "    \n",
    "    significant_pac = np.zeros((len(channel_labels), n_conditions))\n",
    "    \n",
    "    for channel_idx, channel_label in enumerate(channel_labels):\n",
    "\n",
    "        # the customized freqeuncy bands are saved per hemisphere, therefore we have to find out the current hemi\n",
    "        current_hemi = 'left' if channel_label in left_channels else 'right'\n",
    "\n",
    "        for condition_idx, condition in enumerate(conditions):\n",
    "\n",
    "            # get current lfp data\n",
    "            current_lfp_epochs = lfp_dict[condition]['data'][channel_idx]\n",
    "\n",
    "            # consider reasonable beta range\n",
    "            mask = ut.get_array_mask(f_phase >= 5, f_phase <= 40).squeeze()\n",
    "            f_mask = f_phase[mask]\n",
    "            data = pac_phase[channel_idx, condition_idx, mask]\n",
    "            # smooth the mean PAC\n",
    "            smoother_pac = ut.smooth_with_mean_window(data, window_size=3)\n",
    "            max_idx = np.argmax(smoother_pac)\n",
    "            \n",
    "            # calculate mean\n",
    "            current_sig_phase = sig_matrix[channel_idx, condition_idx, :, mask].mean(axis=1)  # should be shape (61,)\n",
    "            current_sig_amp = sig_matrix[channel_idx, condition_idx, :, mask].mean(axis=0)  # should be shape (61,)\n",
    "            \n",
    "            if file_idx == pos_file_idx and channel_idx == pos_channel_idx and condition_idx == pos_condition_idx: \n",
    "                pac_matrix_sig = pac_matrix[channel_idx, condition_idx, :, :]\n",
    "                sig_matrix1 = sig_matrix[channel_idx, condition_idx, :, :]\n",
    "                plotter.plot_beta_band_selection_illustration_for_poster(pac_matrix_sig, pac_matrix_nonsig, \n",
    "                                                                         sig_matrix1, sig_matrix2,\n",
    "                                                                         n_phase, n_amplitude,\n",
    "                                                     f_phase, f_amp, mask, smoother_pac, max_idx, current_lfp_epochs,\n",
    "                                                     subject_id, fs, save=True)\n",
    "                "
   ]
  },
  {
   "cell_type": "code",
   "execution_count": null,
   "metadata": {
    "collapsed": true
   },
   "outputs": [],
   "source": []
  }
 ],
 "metadata": {
  "anaconda-cloud": {},
  "kernelspec": {
   "display_name": "Python [conda env:bccn_programming]",
   "language": "python",
   "name": "conda-env-bccn_programming-py"
  },
  "language_info": {
   "codemirror_mode": {
    "name": "ipython",
    "version": 3
   },
   "file_extension": ".py",
   "mimetype": "text/x-python",
   "name": "python",
   "nbconvert_exporter": "python",
   "pygments_lexer": "ipython3",
   "version": "3.5.2"
  }
 },
 "nbformat": 4,
 "nbformat_minor": 2
}
