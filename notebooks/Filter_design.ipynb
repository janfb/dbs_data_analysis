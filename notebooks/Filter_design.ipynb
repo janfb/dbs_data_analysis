{
 "cells": [
  {
   "cell_type": "code",
   "execution_count": null,
   "metadata": {
    "collapsed": false
   },
   "outputs": [],
   "source": [
    "import numpy as np \n",
    "from scipy.signal import butter, lfilter, freqz, filtfilt\n",
    "import matplotlib.pyplot as plt \n",
    "%matplotlib inline\n",
    "import sys\n",
    "sys.path.append('../')\n",
    "import utils as ut"
   ]
  },
  {
   "cell_type": "code",
   "execution_count": null,
   "metadata": {
    "collapsed": true
   },
   "outputs": [],
   "source": [
    "folder = '/Users/Jan/Dropbox/Master/LR_Kuehn/data/dystonia_rest/for_python/good_theta/'\n",
    "file = 'spmeeg_13.mat'\n",
    "d = ut.load_data_spm(file, folder)"
   ]
  },
  {
   "cell_type": "code",
   "execution_count": null,
   "metadata": {
    "collapsed": false
   },
   "outputs": [],
   "source": [
    "lfp = d['data'][1]\n",
    "fs = d['fsample'][0][0]"
   ]
  },
  {
   "cell_type": "code",
   "execution_count": null,
   "metadata": {
    "collapsed": false
   },
   "outputs": [],
   "source": [
    "def butter_bandpass(lowcut, highcut, fs, order=5):\n",
    "    nyq = 0.5 * fs\n",
    "    low = lowcut / nyq\n",
    "    high = highcut / nyq\n",
    "    b, a = butter(order, [low, high], btype='band')\n",
    "    return b, a\n",
    "def butter_bandpass_filter(data, lowcut, highcut, fs, order=5):\n",
    "    b, a = butter_bandpass(lowcut, highcut, fs, order=order)\n",
    "    y = lfilter(b, a, data)\n",
    "    return y\n",
    "\n",
    "def butter_bandpass_filter2(data, lowcut, highcut, fs, order=5):\n",
    "    b, a = butter_bandpass(lowcut, highcut, fs, order=order)\n",
    "    y = filtfilt(b, a, data)\n",
    "    return y"
   ]
  },
  {
   "cell_type": "code",
   "execution_count": null,
   "metadata": {
    "collapsed": false
   },
   "outputs": [],
   "source": [
    "low = 2. \n",
    "high = 14. \n",
    "plt.figure(figsize=(10, 5))\n",
    "for order in [2, 3, 4, 5, 6]:\n",
    "    b, a = butter_bandpass(low, high, fs, order=order)\n",
    "    w, h = freqz(b, a, worN=2000)\n",
    "    up_to = 400\n",
    "    plt.plot(((fs * 0.5 / np.pi) * w)[:up_to], abs(h)[:up_to], label=\"order = %d\" % order)\n",
    "plt.legend()\n",
    "plt.title('Frequency response')\n",
    "plt.xlabel('Frequency (Hz)')\n",
    "plt.ylabel('Gain')\n",
    "plt.grid(True)\n",
    "plt.legend(loc='best');"
   ]
  },
  {
   "cell_type": "markdown",
   "metadata": {},
   "source": [
    "### Look at the shape of the frequency response before filtering!\n",
    "\n",
    "dependent on the frequency range, the order of the filter that produces a good response is different. \n",
    "\n",
    "For the theta range it is order 4,\n",
    "\n",
    "for the beta range order 5 \n",
    "\n",
    "higher order give very different frequency response "
   ]
  },
  {
   "cell_type": "code",
   "execution_count": null,
   "metadata": {
    "collapsed": false
   },
   "outputs": [],
   "source": [
    "low = 4. \n",
    "high = 12. \n",
    "plt.figure(figsize=(15, 10))\n",
    "start = 1000\n",
    "stop = start + 700\n",
    "lfp = lfp - lfp.mean()\n",
    "plt.plot(lfp[start:stop])\n",
    "for order in [2, 3, 4, 5]:\n",
    "    y = butter_bandpass_filter(lfp, low, high, fs, order=order)\n",
    "    plt.plot(y[start:stop], label=\"order = %d\" % order)\n",
    "plt.legend();"
   ]
  },
  {
   "cell_type": "code",
   "execution_count": null,
   "metadata": {
    "collapsed": false
   },
   "outputs": [],
   "source": [
    "plt.figure(figsize=(15, 10))\n",
    "plt.plot(lfp[start:stop])\n",
    "for order in [2, 3, 4, 5]:\n",
    "    y = butter_bandpass_filter2(lfp, low, high, fs, order=order)\n",
    "    plt.plot(y[start:stop], label=\"order = %d\" % order)\n",
    "plt.legend();"
   ]
  },
  {
   "cell_type": "markdown",
   "metadata": {},
   "source": [
    "### The effect of using filtfilt \n",
    "\n",
    "filtfilt applies the filter forward and backward to improve the response. we can see that the lower orders result in very similar filtered signal, whereas with using lfilter they are quite different. Thus, filtfilt seems to improce the filtering for these orders. \n",
    "\n",
    "However, for order 5, the filtfilt result is suddenly very different, what is going on? "
   ]
  },
  {
   "cell_type": "code",
   "execution_count": null,
   "metadata": {
    "collapsed": true
   },
   "outputs": [],
   "source": []
  }
 ],
 "metadata": {
  "anaconda-cloud": {},
  "kernelspec": {
   "display_name": "Python [conda env:bccn_programming]",
   "language": "python",
   "name": "conda-env-bccn_programming-py"
  },
  "language_info": {
   "codemirror_mode": {
    "name": "ipython",
    "version": 3
   },
   "file_extension": ".py",
   "mimetype": "text/x-python",
   "name": "python",
   "nbconvert_exporter": "python",
   "pygments_lexer": "ipython3",
   "version": "3.5.2"
  }
 },
 "nbformat": 4,
 "nbformat_minor": 2
}
