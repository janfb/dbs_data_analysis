{
 "cells": [
  {
   "cell_type": "code",
   "execution_count": null,
   "metadata": {
    "collapsed": true
   },
   "outputs": [],
   "source": [
    "import numpy as np \n",
    "import matplotlib.pyplot as plt \n",
    "%matplotlib inline "
   ]
  },
  {
   "cell_type": "code",
   "execution_count": null,
   "metadata": {
    "collapsed": true
   },
   "outputs": [],
   "source": [
    "import sys\n",
    "sys.path.append('../')\n",
    "import utils as ut"
   ]
  },
  {
   "cell_type": "code",
   "execution_count": null,
   "metadata": {
    "collapsed": false
   },
   "outputs": [],
   "source": [
    "datafile = 'sharpness_pac_separated_in_hemisphere_n12_optimized_bands.p'\n",
    "folder = '/Users/Jan/Dropbox/Master/LR_Kuehn/analysis_data/stn/'\n",
    "data_dict = ut.load_data_analysis(filename=datafile, data_folder=folder)\n",
    "subject_dict = data_dict['DS_left']\n",
    "subject_dict.keys()"
   ]
  },
  {
   "cell_type": "code",
   "execution_count": null,
   "metadata": {
    "collapsed": true
   },
   "outputs": [],
   "source": [
    "channel_labels = subject_dict['channel_labels']\n",
    "pac_matrix = subject_dict['pac_matrix']\n",
    "n_phase = subject_dict['f_phase'].size\n",
    "n_amplitude = subject_dict['f_amp'].size"
   ]
  },
  {
   "cell_type": "code",
   "execution_count": null,
   "metadata": {
    "collapsed": false
   },
   "outputs": [],
   "source": [
    "# plot the PAC matrix for poster\n",
    "fontsize = 20\n",
    "tick_steps = 3\n",
    "tick_size = 15\n",
    "plt.figure(figsize=(10, 8))\n",
    "plt.subplot(121)\n",
    "channel_mask = np.where(np.array(channel_labels) == 'STN_L23')[0]\n",
    "pac_off = pac_matrix[channel_mask, 0].squeeze()\n",
    "pac_on = pac_matrix[channel_mask, 1].squeeze()\n",
    "plt.imshow(pac_off, interpolation='none', origin='lower', vmin=0.0, vmax=0.06)\n",
    "plt.xticks(np.linspace(0, n_phase, tick_steps), np.linspace(5, 35, tick_steps, dtype=int), fontsize=tick_size)\n",
    "plt.yticks(np.linspace(0, n_amplitude, tick_steps), np.linspace(150, 400, tick_steps, dtype=int), fontsize=tick_size)\n",
    "\n",
    "plt.xlabel('Phase frequency [Hz]', fontsize=fontsize)\n",
    "plt.ylabel('Amplitude frequency [Hz]', fontsize=fontsize)\n",
    "plt.title('OFF', fontsize=fontsize)\n",
    "\n",
    "plt.subplot(122)\n",
    "plt.imshow(pac_on, interpolation='none', origin='lower', vmin=0.0, vmax=0.06)\n",
    "cbar = plt.colorbar(ticks=[0., 0.03, 0.06])\n",
    "cbar.ax.tick_params(labelsize=tick_size)\n",
    "plt.xlabel('Phase frequency [Hz]', fontsize=fontsize)\n",
    "plt.title('ON', fontsize=fontsize)\n",
    "plt.xticks(np.linspace(0, n_phase, tick_steps), np.linspace(5, 35, tick_steps, dtype=int), fontsize=tick_size)\n",
    "plt.yticks(np.linspace(0, n_amplitude, tick_steps), np.linspace(150, 400, tick_steps, dtype=int), fontsize=tick_size)\n",
    "\n",
    "plt.tight_layout()\n",
    "plt.show()"
   ]
  },
  {
   "cell_type": "code",
   "execution_count": null,
   "metadata": {
    "collapsed": true
   },
   "outputs": [],
   "source": []
  },
  {
   "cell_type": "code",
   "execution_count": null,
   "metadata": {
    "collapsed": true
   },
   "outputs": [],
   "source": []
  }
 ],
 "metadata": {
  "anaconda-cloud": {},
  "kernelspec": {
   "display_name": "Python [conda env:bccn_programming]",
   "language": "python",
   "name": "conda-env-bccn_programming-py"
  },
  "language_info": {
   "codemirror_mode": {
    "name": "ipython",
    "version": 3
   },
   "file_extension": ".py",
   "mimetype": "text/x-python",
   "name": "python",
   "nbconvert_exporter": "python",
   "pygments_lexer": "ipython3",
   "version": "3.5.2"
  }
 },
 "nbformat": 4,
 "nbformat_minor": 2
}
